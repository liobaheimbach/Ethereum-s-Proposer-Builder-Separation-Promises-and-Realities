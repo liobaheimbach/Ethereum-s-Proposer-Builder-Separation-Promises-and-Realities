{
 "cells": [
  {
   "cell_type": "markdown",
   "metadata": {},
   "source": [
    "# Ethereum's Proposer-Builder Separation: Promises and Realities \n",
    "\n",
    "This script was run with the following Python 3.10.12 and the following libary versions: \n",
    "- panads 1.5.3\n",
    "- numpy 1.25.2\n",
    "- matplotlib 3.7.2\n",
    "- seaborn 0.12.0"
   ]
  },
  {
   "cell_type": "code",
   "execution_count": null,
   "metadata": {},
   "outputs": [],
   "source": [
    "import pandas as pd\n",
    "import numpy as np\n",
    "from  enum import Enum\n",
    "import matplotlib.pyplot as plt\n",
    "import matplotlib.dates as mdates\n",
    "import matplotlib.ticker as mticker\n",
    "import matplotlib\n",
    "import seaborn as sns\n",
    "import pickle\n"
   ]
  },
  {
   "cell_type": "code",
   "execution_count": null,
   "metadata": {},
   "outputs": [],
   "source": [
    "class Color(Enum):\n",
    "    bloXrouteR = \"#06AED5\" \n",
    "    bloXrouteM = \"#DA3E52\" \n",
    "    LIDO = \"#F8BE57\"\n",
    "    builder0x69 =\"#7E6B8F\" \n",
    "    REST = \"#02C39A\" \n",
    "    Flashbots = \"#05668D\"\n",
    "    beaverbuild ='#B118C8'\n",
    "    Eden = '#FF784F'\n",
    "    bloXrouteE = '#B98389'\n",
    "    ethbuilder = '#F2BAC9'\n",
    "    MEVBuilder1 ='#C1CC99'\n",
    "    MEVBuilder2 ='#3c096c'"
   ]
  },
  {
   "cell_type": "code",
   "execution_count": null,
   "metadata": {},
   "outputs": [],
   "source": [
    "#plot parameters\n",
    "plt.rcParams[\"figure.figsize\"] = (3.465,1.8) \n",
    "font = {'family' : 'serif', 'size'   : 6.3}\n",
    "matplotlib.rc('font', **font)   "
   ]
  },
  {
   "cell_type": "code",
   "execution_count": null,
   "metadata": {},
   "outputs": [],
   "source": [
    "#helper class to move y axis factor, obtained from https://stackoverflow.com/questions/45760763/how-to-move-the-y-axis-scale-factor-to-the-position-next-to-the-y-axis-label\n",
    "class Labeloffset():\n",
    "    def __init__(self,  ax, label=\"\", axis=\"y\"):\n",
    "        self.axis = {\"y\":ax.yaxis, \"x\":ax.xaxis}[axis]\n",
    "        self.label=label\n",
    "        ax.callbacks.connect(axis+'lim_changed', self.update)\n",
    "        ax.figure.canvas.draw()\n",
    "        self.update(None)\n",
    "\n",
    "    def update(self, lim):\n",
    "        fmt = self.axis.get_major_formatter()\n",
    "        self.axis.offsetText.set_visible(False)\n",
    "        self.axis.set_label_text(self.label + \" \"+ fmt.get_offset() )    "
   ]
  },
  {
   "cell_type": "markdown",
   "metadata": {},
   "source": [
    "Load Data"
   ]
  },
  {
   "cell_type": "code",
   "execution_count": null,
   "metadata": {},
   "outputs": [],
   "source": [
    "\n",
    "#PBS data\n",
    "data=pd.read_pickle('data.pkl')\n",
    "PBSblocks =data[data['PBSBlock']==1]\n",
    "noPBSblocks =data[data['PBSBlock']==0]\n",
    "\n",
    "with open('relaysBlockDict.pickle', 'rb') as f:\n",
    "    relaysBlockDict =pickle.load(f)\n",
    "with open('relaysDict.pickle', 'rb') as f:\n",
    "    relaysDict =pickle.load(f)    \n",
    "\n",
    "#private TXs data   \n",
    "privateNonPBS=pd.read_pickle('privateNonPBS.pkl')\n"
   ]
  },
  {
   "cell_type": "markdown",
   "metadata": {},
   "source": [
    "## PBS Landscape"
   ]
  },
  {
   "cell_type": "markdown",
   "metadata": {},
   "source": [
    "### Share of Daily User Payments"
   ]
  },
  {
   "cell_type": "code",
   "execution_count": null,
   "metadata": {},
   "outputs": [],
   "source": [
    "proportionOfValue=data[['burnedFee','proposerFee','coinbaseMev','day']]\n",
    "proportionOfValue=proportionOfValue.groupby(['day']).sum()\n",
    "proportionOfValue['sum']=proportionOfValue.sum(axis=1)\n",
    "\n",
    "proportionOfValue.iloc[:,:-1]=proportionOfValue.iloc[:,:-1].div(proportionOfValue.iloc[:,-1], axis=0)\n",
    "\n",
    "plt.stackplot(proportionOfValue.index.tolist(), proportionOfValue.burnedFee.tolist(), proportionOfValue.proposerFee.tolist(), proportionOfValue.coinbaseMev.tolist(),\n",
    "              labels=[ \"base fee\", \"priority fee\", \"direct transfers\" ], \n",
    "              colors =[Color.bloXrouteM.value, Color.Flashbots.value, Color.MEVBuilder1.value])\n",
    "\n",
    "ax=plt.gca()\n",
    "locator = mdates.AutoDateLocator()\n",
    "formatter = mdates.ConciseDateFormatter(locator)\n",
    "ax.xaxis.set_major_locator(locator)\n",
    "ax.xaxis.set_major_formatter(formatter)   \n",
    "ax.xaxis.set_minor_formatter('')\n",
    "\n",
    "plt.xlabel('')\n",
    "plt.ylabel('share of user payments')\n",
    "\n",
    "plt.ylim(0,1)\n",
    "handles, labels = ax.get_legend_handles_labels()\n",
    "lgd = ax.legend(handles,labels,facecolor =\"white\", framealpha=1, bbox_to_anchor=(0., 1.02, 1., .102), loc=3,  ncol=6, mode=\"expand\", borderaxespad=0.)\n",
    "ax.set_xlim([pd.to_datetime('2022-09-15'), pd.to_datetime('2023-03-31')])\n",
    "plt.show()"
   ]
  },
  {
   "cell_type": "markdown",
   "metadata": {},
   "source": [
    "### Share of PBS Blocks"
   ]
  },
  {
   "cell_type": "code",
   "execution_count": null,
   "metadata": {},
   "outputs": [],
   "source": [
    "dataPBSDaily = data.resample('D').agg({'PBSBlock': ['sum', 'size']}) \n",
    "dataPBSDaily['PBSBlock','sum1']  =dataPBSDaily['PBSBlock','size']-dataPBSDaily['PBSBlock','sum']\n",
    "dataPBSDaily['PBS'] = dataPBSDaily['PBSBlock','sum']/dataPBSDaily['PBSBlock','size']\n",
    "dataPBSDaily['noPBS'] = dataPBSDaily['PBSBlock','sum1']/dataPBSDaily['PBSBlock','size']"
   ]
  },
  {
   "cell_type": "code",
   "execution_count": null,
   "metadata": {},
   "outputs": [],
   "source": [
    "plt.stackplot(dataPBSDaily.index.tolist(), dataPBSDaily.PBS.tolist(), dataPBSDaily.noPBS.tolist(),\n",
    "              labels=[ \"PBS\", \"non-PBS\", ], \n",
    "              colors =[Color.Flashbots.value, Color.bloXrouteM.value])\n",
    "ax =plt.gca()\n",
    "locator = mdates.AutoDateLocator()\n",
    "formatter = mdates.ConciseDateFormatter(locator)\n",
    "ax.xaxis.set_major_locator(locator)\n",
    "ax.xaxis.set_major_formatter(formatter)     \n",
    "plt.xlabel('')\n",
    "plt.ylabel('share of blocks')\n",
    "\n",
    "plt.ylim(0,1)\n",
    "handles, labels = ax.get_legend_handles_labels()\n",
    "lgd = ax.legend(handles,labels,facecolor =\"white\", framealpha=1, bbox_to_anchor=(0., 1.02, 1., .102), loc=3,  ncol=6, mode=\"expand\", borderaxespad=0.)\n",
    "ax.set_xlim([pd.to_datetime('2022-09-15'), pd.to_datetime('2023-03-31')])\n",
    "\n",
    "plt.show()"
   ]
  },
  {
   "cell_type": "code",
   "execution_count": null,
   "metadata": {},
   "outputs": [],
   "source": [
    "print(\"Number of PBS blocks: \"+str(len(data[data['PBSBlock']==1])))\n",
    "print(\"Number of PBS blocks claimed by relays: \"+str(len(data[data['builderPubkey']==data['builderPubkey']])))\n",
    "print(\"Number of PBS blocks with final payment: \"+str(len(data[data['payment']==1])))\n",
    "print(\"Number of PBS blocks with final payment: \"+str(len(data[data['payment']==1])))\n",
    "print(\"Number of PBS blocks without final payment and same builder/proposer: \"+str(len(data[(data['payment']==0)&(data['builderFeeRecipient']==data['proposerFeeRecipient'])])))"
   ]
  },
  {
   "cell_type": "markdown",
   "metadata": {},
   "source": [
    "### Relay Distribution"
   ]
  },
  {
   "cell_type": "code",
   "execution_count": null,
   "metadata": {},
   "outputs": [],
   "source": [
    "relayDictData =pd.DataFrame.from_dict(relaysBlockDict, orient='index').T.unstack().dropna().reset_index(level=1,drop=True)\n",
    "relayDictData =relayDictData.to_frame()\n",
    "relayDictData = relayDictData.reset_index()\n",
    "relayDictData.columns =['block', 'Relay']\n",
    "relayDictData =relayDictData.groupby(['block',  'Relay']).size().unstack(fill_value=0)\n",
    "relayDictData =relayDictData.div(relayDictData.sum(axis=1), axis=0)\n",
    "data['time'] = data.index\n",
    "dataRelay=relayDictData.merge(data[data['PBSBlock']==1][['block','time']], left_on='block', right_on='block',how ='outer')\n",
    "\n",
    "dataRelay =dataRelay.set_index('time')\n",
    "dataRelay.index = pd.to_datetime(dataRelay.index)\n",
    "dataRelay=dataRelay.drop(['block'],axis=1)\n",
    "dataRelay['left'] = np.where(dataRelay.sum(axis=1)==0,1, 0)\n",
    "\n",
    "dataRelay=dataRelay.resample('D').sum()\n",
    "s = dataRelay.sum()\n",
    "dataRelayTop=dataRelay[s.sort_values(ascending=False).index[:8]]\n",
    "dataRelayRest=dataRelay[s.sort_values(ascending=False).index[8:]]\n",
    "dataRelayRest['rest']=dataRelayRest.sum(axis=1).copy()\n",
    "dataRelayTop=dataRelayTop.merge(dataRelayRest['rest'], left_on='time', right_on='time',how ='inner')\n",
    "dataRelayTop=dataRelayTop.merge(blocksPerBuilder['sum'], left_index=True, right_index=True,how ='inner')\n",
    "\n",
    "dataRelayTop.iloc[:,:-1]=dataRelayTop.iloc[:,:-1].div(dataRelayTop.iloc[:,-1], axis=0)\n",
    "dataRelayTop.index =pd.to_datetime(dataRelayTop.index)\n",
    "dataRelayTop =dataRelayTop.rename(columns={\n",
    "                  \"bloXroute (MaxProfit)\": \"bloXroute (M)\"\n",
    "                  ,\"bloXroute (Regulated)\": \"bloXroute (R)\"\n",
    "                  ,\"bloXroute (Ethical)\": \"bloXroute (E)\"\n",
    "                  })"
   ]
  },
  {
   "cell_type": "code",
   "execution_count": null,
   "metadata": {},
   "outputs": [],
   "source": [
    "ax = dataRelayTop.drop('sum', axis=1).plot.area(linewidth=0,color={'Flashbots': Color.Flashbots.value, \n",
    "                                    'bloXroute (M)': Color.bloXrouteM.value, \n",
    "                                    'Blocknative': Color.beaverbuild.value, \n",
    "                                    'bloXroute (R)': Color.bloXrouteR.value, \n",
    "                                    'Eden': Color.Eden.value, \n",
    "                                    'bloXroute (E)': Color.bloXrouteE.value, \n",
    "                                    'UltraSound': Color.MEVBuilder2.value, \n",
    "                                    'GnosisDAO': Color.MEVBuilder1.value, \n",
    "                                    'rest': Color.REST.value})\n",
    "locator = mdates.AutoDateLocator()\n",
    "formatter = mdates.ConciseDateFormatter(locator)\n",
    "ax.xaxis.set_major_locator(locator)\n",
    "ax.xaxis.set_major_formatter(formatter)   \n",
    "ax.xaxis.set_minor_formatter('')\n",
    "ax.tick_params(which='minor', length=0, color='r')\n",
    "plt.xlabel('')\n",
    "plt.ylabel('share of blocks')\n",
    "plt.ylim(0,1)\n",
    "handles, labels = ax.get_legend_handles_labels()\n",
    "lgd = ax.legend(handles,labels,facecolor =\"white\", framealpha=1, bbox_to_anchor=(0., 1.02, 1., .102), loc=3,  ncol=3, mode=\"expand\", borderaxespad=0.)\n",
    "ax.set_xlim([pd.to_datetime('2022-09-15'), pd.to_datetime('2023-03-31')])\n",
    "plt.show()"
   ]
  },
  {
   "cell_type": "markdown",
   "metadata": {},
   "source": [
    "### Builder Distribution"
   ]
  },
  {
   "cell_type": "code",
   "execution_count": null,
   "metadata": {},
   "outputs": [],
   "source": [
    "data =data.replace(\"\\\\xa1dead01e65f0a0eee7b5170223f20c8f0cbf122eac3324d61afbdb33a8885ff8cab2ef514ac2c7698ae0d6289ef27fc\",  \"Flashbots\")\n",
    "data =data.replace('\\\\x81babeec8c9f2bb9c329fd8a3b176032fe0ab5f3b92a3f44d4575a231c7bd9c31d10b6328ef68ed1e8c02a3dbc8e80f9',  \"Flashbots\")\n",
    "data =data.replace('\\\\x81beef03aafd3dd33ffd7deb337407142c80fea2690e5b3190cfc01bde5753f28982a7857c96172a75a234cb7bcb994f',  \"Flashbots\")\n",
    "data =data.replace('\\\\xb086acdd8da6a11c973b4b26d8c955addbae4506c78defbeb5d4e00c1266b802ff86ec7457c4c3c7c573fa1e64f7e9e0',  \"bloXroute (E)\")\n",
    "data =data.replace('\\\\x95701d3f0c49d7501b7494a7a4a08ce66aa9cc1f139dbd3eec409b9893ea213e01681e6b76f031122c6663b7d72a331b',  \"bloXroute (E)\")\n",
    "data =data.replace('\\\\x82801ab0556f7df1fb9bb3a61ca84beea8285a8dc3c455a7ea16a8b2993fe06058e0e7d275b28ea5d9f2ae995aa72605',  \"bloXroute (E)\")\n",
    "data =data.replace('\\\\x94aa4ee318f39b56547a253700917982f4b737a49fc3f99ce08fa715e488e673d88a60f7d2cf9145a05127f17dcb7c67',  \"bloXroute (M)\")\n",
    "data =data.replace('\\\\x976e63c505050e25b70b39238990c78ddf0948685eb8c5687d17ba5089541f37dd3c45999f2db449eac298b1d4856013',  \"bloXroute (M)\")\n",
    "data =data.replace('\\\\x8b8edce58fafe098763e4fabdeb318d347f9238845f22c507e813186ea7d44adecd3028f9288048f9ad3bc7c7c735fba',  \"bloXroute (M)\")\n",
    "data =data.replace('\\\\xaa1488eae4b06a1fff840a2b6db167afc520758dc2c8af0dfb57037954df3431b747e2f900fe8805f05d635e9a29717b',  \"bloXroute (M)\")\n",
    "data =data.replace('\\\\x80c7311597316f871363f8395b6a8d056071d90d8eb27defd14759e8522786061b13728623452740ba05055f5ba9d3d5',  \"bloXroute (R)\")\n",
    "data =data.replace('\\\\xb9b50821ec5f01bb19ec75e0f22264fa9369436544b65c7cf653109dd26ef1f65c4fcaf1b1bcd2a7278afc34455d3da6',  \"bloXroute (R)\")\n",
    "data =data.replace('\\\\x965a05a1ba338f4bbbb97407d70659f4cea2146d83ac5da6c2f3de824713c927dcba706f35322d65764912e7756103e2',  \"bloXroute (R)\")\n",
    "data =data.replace('\\\\xa1daf0ab37a9a204bc5925717f78a795fa2812f8fba8bda10b1b27c554bd7dedd46775106facd72be748eea336f514e9',  \"Builder 1\")\n",
    "data =data.replace('\\\\x89783236c449f037b4ad7bae18cea35014187ec06e2daa016128e736739debeafc5fe8662a0613bc4ca528af5be83b3c',  \"Builder 1\")\n",
    "data =data.replace('\\\\xb194b2b8ec91a71c18f8483825234679299d146495a08db3bf3fb955e1d85a5fca77e88de93a74f4e32320fc922d3027',  \"builder0x69\")\n",
    "data =data.replace('\\\\xa971c4ee4ac5d47e0fb9e16be05981bfe51458f14c06b7a020304099c23d2d9952d4254cc50f291c385d15e7cae0cf9d',  \"builder0x69\")\n",
    "data =data.replace('\\\\xa4fb63c2ceeee73d1f1711fadf1c5357ac98cecb999d053be613f469a48f7416999a4da35dd60a7824478661399e6772',  \"builder0x69\")\n",
    "data =data.replace('\\\\xb8fceec09779ff758918a849bfe8ab43cea79f6a98320af0af5b030f6a7850fcc5883cb965d02efb10eed1ffa987e899',  \"builder0x69\")\n",
    "data =data.replace('\\\\x8bc8d110f8b5207e7edc407e8fa033937ddfe8d2c6f18c12a6171400eb6e04d49238ba2b0a95e633d15558e6a706fbe4',  \"builder0x69\")\n",
    "data =data.replace('\\\\xb5d883565500910f3f10f0a2e3a031139d972117a3b67da191ff93ba00ba26502d9b65385b5bca5e7c587273e40f2319',  \"beaverbuild\")\n",
    "data =data.replace('\\\\x96a59d355b1f65e270b29981dd113625732539e955a1beeecbc471dd0196c4804574ff871d47ed34ff6d921061e9fc27',  \"beaverbuild\")\n",
    "data =data.replace('\\\\x8dde59a0d40b9a77b901fc40bee1116acf643b2b60656ace951a5073fe317f57a086acf1eac7502ea32edcca1a900521',  \"beaverbuild\")\n",
    "data =data.replace('\\\\xaec4ec48c2ec03c418c599622980184e926f0de3c9ceab15fc059d617fa0eafe7a0c62126a4657faf596a1b211eec347',  \"beaverbuild\")\n",
    "data =data.replace('\\\\x8000008a03ebae7d8ab2f66659bd719a698b2e74097d1e423df85e0d58571140527c15052a36c19878018aaebe8a6fea',  \"blocknative\")\n",
    "data =data.replace('\\\\x9000009807ed12c1f08bf4e81c6da3ba8e3fc3d953898ce0102433094e5f22f21102ec057841fcb81978ed1ea0fa8246',  \"blocknative\")\n",
    "data =data.replace('\\\\xa66f3abc04df65c16eb32151f2a92cb7921efdba4c25ab61b969a2af24b61508783ceb48175ef252ec9f82c6cdf8d8fd',  \"blocknative\")\n",
    "data =data.replace('\\\\xa00000a975dffbd1ef61953ac6c90b52b70eb0188eb9d030774346c9248f81e875f7e8bc56c4bbbda297a9543cfa051d',  \"blocknative\")\n",
    "data =data.replace('\\\\x8e39849ceabc8710de49b2ca7053813de18b1c12d9ee22149dac4b90b634dd7e6d1e7d3c2b4df806ce32c6228eb70a8b',  \"Eden\")\n",
    "data =data.replace('\\\\xa5eec32c40cc3737d643c24982c7f097354150aac1612d4089e2e8af44dbeefaec08a11c76bd57e7d58697ad8b2bbef5',  \"Eden\")\n",
    "data =data.replace('\\\\x91970c2db7c12510acb2e9c45844f7de602f83a7f31064f7ca04a807b607d7aebfc0abda73c036a92e5c3e56ebca04b7',  \"Eden\")\n",
    "data =data.replace('\\\\xa412007971217a42ca2ced9a90e7ca0ddfc922a1482ee6adf812c4a307e5fb7d6e668a7c86e53663ddd53c689aa3d350',  \"Eden\")\n",
    "data =data.replace('\\\\x82ba7cadcdfc1b156ba2c48c1c627428ba917858e62c3a97d8f919510da23d0f11cf5db53cb92a5faf5de7d31bf38632',  \"Builder 2\")\n",
    "data =data.replace('\\\\xafc9274fe595e8cff421ab9e73b031f0dff707ea1852e2233ff070ef18e3876e25c44a9831c4b5f802653d4678ccc31f',  \"Builder 3\")\n",
    "data =data.replace('\\\\xa1f10d66aa4b73c5d9a6cc38a098b2c6ce031a6750ea2da01918ba3ac57c2ce1e39a0da622bd8ccd7c9930861f949fa2',  \"Builder 4\")\n",
    "data =data.replace('\\\\x8bcd1148e83d0a844d2d42f90df0837dbe407055367b3bfcf04227e47ea65a0164fc13a66584aae286f8f7322dc69501',  \"Builder 5\")\n",
    "data =data.replace('\\\\xa25f5d5bd4f1956971bbd6e5a19e59c9b1422ca253587bbbb644645bd2067cc08fb854a231061f8c91f110254664e943',  \"Builder 6\")\n",
    "data =data.replace('\\\\xa0d0dbdf7b5eda08c921dee5da7c78c34c9685db3e39e81eb91da94af29eaa50f1468813c86503bf41b4b51bf772800e',  \"Manta-builder\")\n",
    "data =data.replace('\\\\xb1b734b8dd42b4744dc98ea330c3d9da64b7afc050afed96875593c73937d530a773e35ddc4b480f9d2e1d5ba452a469',  \"Manta-builder\")\n",
    "data =data.replace('\\\\xb5a688d26d7858b38c44f44568d68fb94f112fc834cd225d32dc52f0277c2007babc861f6f157a6fc6c1dc25bf409046',  \"Manta-builder\")\n",
    "data =data.replace('\\\\x8eb772d96a747ba63af7acdf92dc775a859f76a77e4c6ed124dca6360e74e4e798a75a925eb8fd0dde866317fff18ad0',  \"eth-builder\")\n",
    "data =data.replace('\\\\x8ea1393f49d894ae22ec86e38d9aeb64b8336dac947e69cb8468acf510d010ce0b51b21ac3e1244bdb91c52e020ea525',  \"eth-builder\")\n",
    "data =data.replace('\\\\x945fc51bf63613257792926c9155d7ae32db73155dc13bdfe61cd476f1fd2297b66601e8721b723cef11e4e6682e9d87',  \"rsync-builder\")\n",
    "data =data.replace('\\\\x83d3495a2951065cf19c4d282afca0a635a39f6504bd76282ed0138fe28680ec60fa3fd149e6d27a94a7d90e7b1fb640',  \"rsync-builder\")\n",
    "data =data.replace('\\\\x978a35c39c41aadbe35ea29712bccffb117cc6ebcad4d86ea463d712af1dc80131d0c650dc29ba29ef27c881f43bd587',  \"rsync-builder\")        "
   ]
  },
  {
   "cell_type": "code",
   "execution_count": null,
   "metadata": {},
   "outputs": [],
   "source": [
    "blockPerBuilder=data[data['PBSBlock']==1]['builderPubkey'].value_counts()\n",
    "top11 =blockPerBuilder[:11].index.tolist()\n",
    "\n",
    "\n",
    "blocksPerBuilder=data.copy()\n",
    "blocksPerBuilder.loc[(~blocksPerBuilder['builderPubkey'].isin(top11)) &blocksPerBuilder['PBSBlock']==1 ,'builderPubkey']= 'rest'\n",
    "blocksPerBuilder.loc[blocksPerBuilder['PBSBlock']==0 ,'builderPubkey']= 'no PBS'\n",
    "\n",
    "blocksPerBuilder=blocksPerBuilder.groupby(['day', 'builderPubkey']).size().unstack(fill_value=0)\n",
    "blocksPerBuilder['sum']=blocksPerBuilder.sum(axis=1)\n",
    "blocksPerBuilder=blocksPerBuilder.drop(['no PBS'],axis=1)\n",
    "blocksPerBuilder.iloc[:,:-1]=blocksPerBuilder.iloc[:,:-1].div(blocksPerBuilder.iloc[:,-1], axis=0)\n",
    "\n",
    "s = blocksPerBuilder.sum()\n",
    "blocksPerBuilder=blocksPerBuilder[s.sort_values(ascending=False).index]\n",
    "blocksPerBuilder['rest'] = blocksPerBuilder.pop('rest')"
   ]
  },
  {
   "cell_type": "code",
   "execution_count": null,
   "metadata": {},
   "outputs": [],
   "source": [
    "ax = blocksPerBuilder.drop('sum', axis=1).plot.area(linewidth=0,color={'Flashbots': Color.Flashbots.value, \n",
    "                                    'builder0x69': Color.builder0x69.value, \n",
    "                                    'bloXroute (M)': Color.bloXrouteM.value, \n",
    "                                    'beaverbuild': Color.beaverbuild.value, \n",
    "                                    'Builder 1': Color.MEVBuilder1.value, \n",
    "                                    'blocknative': Color.MEVBuilder2.value, \n",
    "                                    'bloXroute (R)': Color.bloXrouteR.value, \n",
    "                                    'eth-builder': Color.ethbuilder.value, \n",
    "                                    'Eden': Color.Eden.value, \n",
    "                                    'Manta-builder': Color.LIDO.value, \n",
    "                                    'bloXroute (E)': Color.bloXrouteE.value, \n",
    "                                    'rsync-builder': Color.bloXrouteE.value, \n",
    "                                    'rest': Color.REST.value})\n",
    "locator = mdates.AutoDateLocator()\n",
    "formatter = mdates.ConciseDateFormatter(locator)\n",
    "ax.xaxis.set_major_locator(locator)\n",
    "ax.xaxis.set_major_formatter(formatter)   \n",
    "plt.xlabel('')\n",
    "plt.ylabel('share of blocks')\n",
    "plt.ylim(0,1)\n",
    "\n",
    "handles, labels = ax.get_legend_handles_labels()\n",
    "lgd = ax.legend(handles,labels,facecolor =\"white\", framealpha=1, bbox_to_anchor=(0., 1.02, 1., .102), loc=3,  ncol=3, mode=\"expand\", borderaxespad=0.)\n",
    "ax.set_xlim([pd.to_datetime('2022-09-15'), pd.to_datetime('2023-03-31')])\n",
    "plt.show()"
   ]
  },
  {
   "cell_type": "markdown",
   "metadata": {},
   "source": [
    "### HHI"
   ]
  },
  {
   "cell_type": "code",
   "execution_count": null,
   "metadata": {},
   "outputs": [],
   "source": [
    "def hhi(series):\n",
    "    cnt=series\n",
    "    return np.square(cnt/cnt.sum()).sum()    \n",
    "\n",
    "blockPerBuilderHHI=data[data['PBSBlock']==1].groupby(['day', 'builderPubkey']).size()\n",
    "builderHHI=blockPerBuilderHHI.to_frame().groupby(['day']).agg({0:hhi}) \n",
    "builderHHI.index=pd.to_datetime(builderHHI.index)\n",
    "\n",
    "\n",
    "relayDictDataHHI =pd.DataFrame.from_dict(relaysBlockDict, orient='index').T.unstack().dropna().reset_index(level=1,drop=True)\n",
    "relayDictDataHHI =relayDictDataHHI.to_frame()\n",
    "relayDictDataHHI = relayDictDataHHI.reset_index()\n",
    "relayDictDataHHI.columns =['block', 'Relay']\n",
    "relayDictDataHHI =relayDictDataHHI.groupby(['block',  'Relay']).size().unstack(fill_value=0)\n",
    "relayDictDataHHI =relayDictDataHHI.div(relayDictData.sum(axis=1), axis=0)\n",
    "relayDictDataHHI=relayDictDataHHI.stack().to_frame()\n",
    "relayDictDataHHI=relayDictDataHHI.reset_index(level='Relay')\n",
    "relayDictDataHHI=relayDictDataHHI.merge(data[['time','block']],left_on='block',right_on='block',how='inner')\n",
    "relayDictDataHHI=relayDictDataHHI.set_index('time')\n",
    "relayDictDataHHI.index=pd.to_datetime(relayDictDataHHI.index)\n",
    "relayDictDataHHI['day'] = relayDictDataHHI.index.date\n",
    "relayDictDataHHI=relayDictDataHHI[relayDictDataHHI.iloc[:,2]!=0]\n",
    "relayDictDataHHI=relayDictDataHHI.groupby(['day', 'Relay']).size()\n",
    "relayDictDataHHI=relayDictDataHHI.droplevel(1, axis=0) \n",
    "\n",
    "relayHHI=relayDictDataHHI.to_frame().groupby(['day']).agg({0:hhi}) \n",
    "relayHHI.index=pd.to_datetime(relayHHI.index)\n"
   ]
  },
  {
   "cell_type": "code",
   "execution_count": null,
   "metadata": {},
   "outputs": [],
   "source": [
    "ax=plt.gca()\n",
    "plt.plot(relayHHI,color=Color.Flashbots.value,label='relays')\n",
    "\n",
    "plt.plot(builderHHI,color=Color.bloXrouteM.value,label='builders')\n",
    "\n",
    "locator = mdates.AutoDateLocator()\n",
    "formatter = mdates.ConciseDateFormatter(locator)\n",
    "ax.xaxis.set_major_locator(locator)\n",
    "ax.xaxis.set_major_formatter(formatter)   \n",
    "plt.xlabel('')\n",
    "plt.ylabel('HHI')\n",
    "\n",
    "ax.set_xlim([pd.to_datetime('2022-09-15'), pd.to_datetime('2023-03-31')])\n",
    "\n",
    "handles, labels = ax.get_legend_handles_labels()\n",
    "lgd = ax.legend(handles,labels,facecolor =\"white\", framealpha=1, bbox_to_anchor=(0., 1.02, 1., .102), loc=3,  ncol=2, mode=\"expand\", borderaxespad=0.)\n",
    "plt.show()"
   ]
  },
  {
   "cell_type": "markdown",
   "metadata": {},
   "source": [
    "### Builders per Relay"
   ]
  },
  {
   "cell_type": "code",
   "execution_count": null,
   "metadata": {},
   "outputs": [],
   "source": [
    "builderPerRelay = pd.DataFrame()\n",
    "builderPerRelay.index =pd.date_range(\n",
    "\n",
    "    start=pd.to_datetime(\"15/09/2022\",dayfirst=True),\n",
    "\n",
    "    end=pd.to_datetime(\"31/03/2023\",dayfirst=True),\n",
    "\n",
    ")\n",
    "\n",
    "relayDataBuilder =pd.DataFrame.from_dict(relaysBlockDict, orient='index').T.unstack().dropna().reset_index(level=1,drop=True)\n",
    "relayDataBuilder =relayDataBuilder.to_frame()\n",
    "relayDataBuilder = relayDataBuilder.reset_index()\n",
    "relayDataBuilder.columns =['block', 'Relay']\n",
    "relayDataBuilder=relayDataBuilder.merge(data[['block','builderPubkey','day']],left_on='block',right_on='block')\n"
   ]
  },
  {
   "cell_type": "code",
   "execution_count": null,
   "metadata": {},
   "outputs": [],
   "source": [
    "relays=relayDataBuilder['Relay'].unique().tolist()\n",
    "for relay in relays: \n",
    "    tempdf = relayDataBuilder[relayDataBuilder['Relay']==relay]\n",
    "    tempdf=tempdf[['builderPubkey','day']].groupby('day').nunique()\n",
    "    builderPerRelay[relay]=tempdf['builderPubkey']\n",
    "builderPerRelay =builderPerRelay.rename(columns={\n",
    "                  \"bloXroute (MaxProfit)\": \"bloXroute (M)\"\n",
    "                  ,\"bloXroute (Regulated)\": \"bloXroute (R)\"\n",
    "                  ,\"bloXroute (Ethical)\": \"bloXroute (E)\"\n",
    "                  })"
   ]
  },
  {
   "cell_type": "code",
   "execution_count": null,
   "metadata": {},
   "outputs": [],
   "source": [
    "ax = builderPerRelay[['Flashbots','bloXroute (M)','Blocknative','bloXroute (R)','Eden','bloXroute (E)','UltraSound','GnosisDAO']].plot(color={'Flashbots': Color.Flashbots.value, \n",
    "                                    'bloXroute (M)': Color.bloXrouteM.value, \n",
    "                                    'Blocknative': Color.beaverbuild.value, \n",
    "                                    'bloXroute (R)': Color.bloXrouteR.value, \n",
    "                                    'Eden': Color.Eden.value, \n",
    "                                    'bloXroute (E)': Color.bloXrouteE.value, \n",
    "                                    'UltraSound': Color.MEVBuilder2.value, \n",
    "                                    'GnosisDAO': Color.MEVBuilder1.value})\n",
    "locator = mdates.AutoDateLocator()\n",
    "formatter = mdates.ConciseDateFormatter(locator)\n",
    "ax.xaxis.set_major_locator(locator)\n",
    "ax.xaxis.set_major_formatter(formatter)   \n",
    "ax.xaxis.set_minor_formatter('')\n",
    "ax.tick_params(which='minor', length=0, color='r')\n",
    "plt.xlabel('')\n",
    "plt.ylabel('number of builders per relay')\n",
    "handles, labels = ax.get_legend_handles_labels()\n",
    "lgd = ax.legend(handles,labels,facecolor =\"white\", framealpha=1, bbox_to_anchor=(0., 1.02, 1., .102), loc=3,  ncol=3, mode=\"expand\", borderaxespad=0.)\n",
    "ax.set_xlim([pd.to_datetime('2022-09-15'), pd.to_datetime('2023-03-31')])\n",
    "plt.show()"
   ]
  },
  {
   "cell_type": "markdown",
   "metadata": {},
   "source": [
    "## PBS Impact on Block Composition"
   ]
  },
  {
   "cell_type": "markdown",
   "metadata": {},
   "source": [
    "### Block Value"
   ]
  },
  {
   "cell_type": "code",
   "execution_count": null,
   "metadata": {},
   "outputs": [],
   "source": [
    "ax=sns.scatterplot(data=PBSblocks, x=\"time\", y=\"blockValue\",s=1,label ='PBS',linewidth=0, alpha = 0.7,color =Color.Flashbots.value)\n",
    "sns.scatterplot(data=noPBSblocks, x=\"time\", y=\"blockValue\",s=1,label ='non-PBS',linewidth=0, alpha = 0.7,color =Color.bloXrouteM.value)\n",
    "locator = mdates.AutoDateLocator()\n",
    "formatter = mdates.ConciseDateFormatter(locator)\n",
    "ax.xaxis.set_major_locator(locator)\n",
    "ax.xaxis.set_major_formatter(formatter)   \n",
    "ax.xaxis.set_minor_formatter('')\n",
    "ax.grid(False)\n",
    "\n",
    "plt.xlabel('')\n",
    "plt.yscale('log')\n",
    "plt.ylabel('block value [ETH]')\n",
    "ax.set_xlim([pd.to_datetime('2022-09-15'), pd.to_datetime('2023-03-31')])\n",
    "\n",
    "handles, labels = ax.get_legend_handles_labels()\n",
    "lgd = ax.legend(handles,labels,facecolor =\"white\", framealpha=1, bbox_to_anchor=(0., 1.02, 1., .102), loc=3,  ncol=3, mode=\"expand\", borderaxespad=0.,markerscale=4)\n",
    "plt.show()"
   ]
  },
  {
   "cell_type": "markdown",
   "metadata": {},
   "source": [
    "### Distribution of Value"
   ]
  },
  {
   "cell_type": "markdown",
   "metadata": {},
   "source": [
    "Median Proposer Profit"
   ]
  },
  {
   "cell_type": "code",
   "execution_count": null,
   "metadata": {},
   "outputs": [],
   "source": [
    "ax =sns.lineplot(x='day', y='proposerProfit', err_style=\"band\", \n",
    "             errorbar=None, estimator=\"median\", data=PBSblocks,label='PBS',color =Color.Flashbots.value)\n",
    "bounds = PBSblocks.groupby('day')['proposerProfit'].quantile((0.25,0.75)).unstack()\n",
    "ax.fill_between(x=bounds.index,y1=bounds.iloc[:,0],y2=bounds.iloc[:,1],alpha=0.2)\n",
    "ax =sns.lineplot(x='day', y='proposerProfit', err_style=\"band\", \n",
    "             errorbar=None, estimator=\"median\", data=noPBSblocks,label='non-PBS',color =Color.bloXrouteM.value)\n",
    "bounds = noPBSblocks.groupby('day')['proposerProfit'].quantile((0.25,0.75)).unstack()\n",
    "ax.fill_between(x=bounds.index,y1=bounds.iloc[:,0],y2=bounds.iloc[:,1],alpha=0.2)\n",
    "\n",
    "locator = mdates.AutoDateLocator()\n",
    "formatter = mdates.ConciseDateFormatter(locator)\n",
    "ax.xaxis.set_major_locator(locator)\n",
    "ax.xaxis.set_major_formatter(formatter)   \n",
    "ax.xaxis.set_minor_formatter('')\n",
    "ax.grid(False)\n",
    "plt.xlabel('')\n",
    "plt.ylabel('median proposer profit [ETH]')\n",
    "ax.set_xlim([pd.to_datetime('2022-09-15'), pd.to_datetime('2023-03-31')])\n",
    "plt.axvline(pd.to_datetime('2022-11-09'),color =Color.beaverbuild.value, linestyle='dashed',label='FTX bankrupcy')\n",
    "plt.axvline(pd.to_datetime('2023-03-11'),color =Color.MEVBuilder2.value, linestyle='dashed',label='USDC depeg')\n",
    "\n",
    "plt.ylim(0,0.3)\n",
    "handles, labels = ax.get_legend_handles_labels()\n",
    "lgd = ax.legend(handles,labels,facecolor =\"white\", framealpha=1, bbox_to_anchor=(0., 1.02, 1., .102), loc=3,  ncol=2, mode=\"expand\", borderaxespad=0.)\n",
    "plt.show()"
   ]
  },
  {
   "cell_type": "markdown",
   "metadata": {},
   "source": [
    "Builder Profit"
   ]
  },
  {
   "cell_type": "code",
   "execution_count": null,
   "metadata": {},
   "outputs": [],
   "source": [
    "dataProfit =data[['builderProfit','builderPubkey','PBSBlock','proposerProfit']]\n",
    "dataProfit.loc[(~dataProfit['builderPubkey'].isin(top11)) &dataProfit['PBSBlock']==1 ,'builderPubkey']= 'rest'\n",
    "dataProfit.loc[dataProfit['PBSBlock']==0 ,'builderPubkey']= 'no PBS'\n",
    "dataProfit=dataProfit[dataProfit['builderPubkey']!='no PBS']\n",
    "dataProfit =  dataProfit[dataProfit['builderPubkey'].isin(top11)]\n",
    "dataProfit = dataProfit[dataProfit['builderPubkey']!='rest']"
   ]
  },
  {
   "cell_type": "code",
   "execution_count": null,
   "metadata": {},
   "outputs": [],
   "source": [
    "plt.axhline(y=0, linewidth=1, color='gray',zorder=1)\n",
    "my_pal = {'Flashbots': Color.Flashbots.value, \n",
    "                                    'builder0x69': Color.builder0x69.value, \n",
    "                                    'bloXroute (M)': Color.bloXrouteM.value, \n",
    "                                    'beaverbuild': Color.beaverbuild.value, \n",
    "                                    'Builder 1': Color.MEVBuilder1.value, \n",
    "                                    'blocknative': Color.MEVBuilder2.value, \n",
    "                                    'bloXroute (R)': Color.bloXrouteR.value, \n",
    "                                    'eth-builder': Color.ethbuilder.value, \n",
    "                                    'Eden': Color.Eden.value, \n",
    "                                    'Manta-builder': Color.LIDO.value, \n",
    "                                    'bloXroute (E)': Color.bloXrouteE.value, \n",
    "                                    'rsync-builder': Color.bloXrouteE.value, \n",
    "                                    'rest': Color.REST.value}\n",
    "ax = sns.boxplot(x=\"builderPubkey\", y=\"builderProfit\", data=dataProfit,order=top11, showfliers=False, palette=my_pal, linewidth=1,showmeans=True, meanprops={\"marker\":\"o\",'color': 'k',\"markerfacecolor\":\"black\", \"markeredgecolor\":\"black\",'markersize':4})#,showmeans=True,meanprops={\"marker\":\"o\",\"markersize\":\"4\"})\n",
    "\n",
    "ax.set_xticklabels(ax.get_xticklabels(),rotation=30,horizontalalignment='right')\n",
    "plt.xlabel('')\n",
    "plt.ylabel('builder profit [ETH]')\n",
    "plt.grid(False)\n",
    "plt.show()"
   ]
  },
  {
   "cell_type": "markdown",
   "metadata": {},
   "source": [
    "Proposer Profit by Builder"
   ]
  },
  {
   "cell_type": "code",
   "execution_count": null,
   "metadata": {},
   "outputs": [],
   "source": [
    "plt.axhline(y=0, linewidth=1, color='gray',zorder=1)\n",
    "my_pal = {'Flashbots': Color.Flashbots.value, \n",
    "                                    'builder0x69': Color.builder0x69.value, \n",
    "                                    'bloXroute (M)': Color.bloXrouteM.value, \n",
    "                                    'beaverbuild': Color.beaverbuild.value, \n",
    "                                    'Builder 1': Color.MEVBuilder1.value, \n",
    "                                    'blocknative': Color.MEVBuilder2.value, \n",
    "                                    'bloXroute (R)': Color.bloXrouteR.value, \n",
    "                                    'eth-builder': Color.ethbuilder.value, \n",
    "                                    'Eden': Color.Eden.value, \n",
    "                                    'Manta-builder': Color.LIDO.value, \n",
    "                                    'bloXroute (E)': Color.bloXrouteE.value, \n",
    "                                    'rsync-builder': Color.bloXrouteE.value, \n",
    "                                    'rest': Color.REST.value}\n",
    "\n",
    "ax = sns.boxplot(x=\"builderPubkey\", y=\"proposerProfit\", data=dataProfit,order=top11, showfliers=False, palette=my_pal, linewidth=1,showmeans=True, meanprops={\"marker\":\"o\",'color': 'k',\"markerfacecolor\":\"black\", \"markeredgecolor\":\"black\",'markersize':4})#,showmeans=True,meanprops={\"marker\":\"o\",\"markersize\":\"4\"})\n",
    "ax.set_xticklabels(ax.get_xticklabels(),rotation=30,horizontalalignment='right')\n",
    "plt.xlabel('')\n",
    "plt.ylabel('proposer profit [ETH]')\n",
    "plt.grid(False)\n",
    "plt.show()"
   ]
  },
  {
   "cell_type": "code",
   "execution_count": null,
   "metadata": {},
   "outputs": [],
   "source": [
    "blockValue =data[data['PBSBlock'] ==1].groupby('day').aggregate({'builderProfit':sum,'proposerProfit':sum})\n",
    "blockValue['builderprofitpercent'] =blockValue['builderProfit']/(blockValue['builderProfit']+blockValue['proposerProfit'])\n",
    "blockValue['proposerprofitpercent'] =blockValue['proposerProfit']/(blockValue['builderProfit']+blockValue['proposerProfit'])\n",
    "\n",
    "conditions = [\n",
    "    blockValue['builderprofitpercent'] >0\n",
    "]\n",
    "strategies = [blockValue['builderprofitpercent']]\n",
    "blockValue['a'] = np.select(conditions, strategies, default=0)\n",
    "\n",
    "conditions = [\n",
    "    blockValue['builderprofitpercent'] <0\n",
    "]\n",
    "strategies = [blockValue['builderprofitpercent']]\n",
    "blockValue['b'] = np.select(conditions, strategies, default=0)\n",
    "\n",
    "plt.stackplot(blockValue.index.tolist(),  blockValue.a.tolist(),blockValue.proposerprofitpercent.tolist(),\n",
    "              labels=[  \"builder profit\",\"proposer profit\" ], \n",
    "              colors =[Color.Flashbots.value, Color.bloXrouteM.value])\n",
    "\n",
    "plt.stackplot(blockValue.index.tolist(), blockValue.b.tolist(),colors =[Color.Flashbots.value])\n",
    "ax =plt.gca()\n",
    "locator = mdates.AutoDateLocator()\n",
    "formatter = mdates.ConciseDateFormatter(locator)\n",
    "ax.xaxis.set_major_locator(locator)\n",
    "ax.xaxis.set_major_formatter(formatter)     \n",
    "plt.xlabel('')\n",
    "plt.ylabel('profit share')\n",
    "\n",
    "handles, labels = ax.get_legend_handles_labels()\n",
    "lgd = ax.legend(handles,labels,facecolor =\"white\", framealpha=1, bbox_to_anchor=(0., 1.02, 1., .102), loc=3,  ncol=6, mode=\"expand\", borderaxespad=0.)\n",
    "ax.set_xlim([pd.to_datetime('2022-09-15'), pd.to_datetime('2023-03-31')])\n",
    "\n",
    "plt.show()"
   ]
  },
  {
   "cell_type": "markdown",
   "metadata": {},
   "source": [
    "### Block Contents"
   ]
  },
  {
   "cell_type": "markdown",
   "metadata": {},
   "source": [
    "Gas Usage"
   ]
  },
  {
   "cell_type": "code",
   "execution_count": null,
   "metadata": {},
   "outputs": [],
   "source": [
    "ax =sns.lineplot(x='day', y='gasUsed', \n",
    "             errorbar=None, estimator=\"mean\", data=PBSblocks,label='PBS',color =Color.Flashbots.value)\n",
    "ax =sns.lineplot(x='day', y='gasUsed', \n",
    "             errorbar=None, estimator=\"mean\", data=noPBSblocks,label='non-PBS',color =Color.bloXrouteM.value)\n",
    "bounds = PBSblocks.groupby('day')['gasUsed'].agg([np.mean, np.std])\n",
    "\n",
    "bounds['lower']=bounds['mean']-1*bounds['std']\n",
    "bounds['upper']=bounds['mean']+1*bounds['std']\n",
    "bounds =bounds[['lower','upper']]\n",
    "ax.fill_between(x=bounds.index,y1=bounds.iloc[:,0],y2=bounds.iloc[:,1],alpha=0.2)\n",
    "bounds = noPBSblocks.groupby('day')['gasUsed'].agg([np.mean, np.std])\n",
    "bounds['lower']=bounds['mean']-1*bounds['std']\n",
    "bounds['upper']=bounds['mean']+1*bounds['std']\n",
    "bounds =bounds[['lower','upper']]\n",
    "ax.fill_between(x=bounds.index,y1=bounds.iloc[:,0],y2=bounds.iloc[:,1],alpha=0.2)\n",
    "locator = mdates.AutoDateLocator()\n",
    "formatter = mdates.ConciseDateFormatter(locator)\n",
    "ax.xaxis.set_major_locator(locator)\n",
    "ax.xaxis.set_major_formatter(formatter)   \n",
    "ax.xaxis.set_minor_formatter('')\n",
    "ax.grid(False)\n",
    "\n",
    "formatter = mticker.ScalarFormatter(useMathText=True)\n",
    "formatter.set_powerlimits((-3,3))\n",
    "ax.yaxis.set_major_formatter(formatter)   \n",
    "lo = Labeloffset(ax, label=r\"block size [gas]\", axis=\"y\")\n",
    "plt.xlabel('')\n",
    "plt.axhline(y=15000000, color='gray', linestyle='--',label='target block size')\n",
    "ax.set_xlim([pd.to_datetime('2022-09-15'), pd.to_datetime('2023-03-31')])\n",
    "handles, labels = ax.get_legend_handles_labels()\n",
    "lgd = ax.legend(handles,labels,facecolor =\"white\", framealpha=1, bbox_to_anchor=(0., 1.02, 1., .102), loc=3,  ncol=3, mode=\"expand\", borderaxespad=0.)\n",
    "plt.show()"
   ]
  },
  {
   "cell_type": "markdown",
   "metadata": {},
   "source": [
    "Private Transactions"
   ]
  },
  {
   "cell_type": "code",
   "execution_count": null,
   "metadata": {},
   "outputs": [],
   "source": [
    "data[['publicTransactions','transactions']]\n",
    "\n",
    "conditions = [\n",
    "     ( data['payment']==1)\n",
    "]\n",
    "strategies = [data['transactions']-data['publicTransactions']]\n",
    "data['privateTransactions'] = np.select(conditions, strategies, default=data['transactions']-data['publicTransactions']-1)\n",
    "PBSblocks =data[data['PBSBlock']==1]\n",
    "noPBSblocks =data[data['PBSBlock']==0]\n",
    "PBSBlocksPrivate=PBSblocks[['privateTransactions','transactions','day']].groupby('day').sum()\n",
    "noPBSblocksPrivate=noPBSblocks[['privateTransactions','transactions','day']].groupby('day').sum()\n",
    "\n",
    "PBSBlocksPrivate['percentPrivate'] =PBSBlocksPrivate['privateTransactions']/PBSBlocksPrivate['transactions']\n",
    "noPBSblocksPrivate['percentPrivate'] =noPBSblocksPrivate['privateTransactions']/noPBSblocksPrivate['transactions']"
   ]
  },
  {
   "cell_type": "code",
   "execution_count": null,
   "metadata": {},
   "outputs": [],
   "source": [
    "ax =sns.lineplot(x='day', y='percentPrivate', \n",
    "             errorbar=None, estimator=\"mean\", data=PBSBlocksPrivate,label='PBS',color =Color.Flashbots.value)\n",
    "ax =sns.lineplot(x='day', y='percentPrivate', \n",
    "             errorbar=None, estimator=\"mean\", data=noPBSblocksPrivate,label='non-PBS',color =Color.bloXrouteM.value)\n",
    "\n",
    "\n",
    "locator = mdates.AutoDateLocator()\n",
    "formatter = mdates.ConciseDateFormatter(locator)\n",
    "ax.xaxis.set_major_locator(locator)\n",
    "ax.xaxis.set_major_formatter(formatter)   \n",
    "ax.xaxis.set_minor_formatter('')\n",
    "ax.grid(False)\n",
    "\n",
    "formatter = mticker.ScalarFormatter(useMathText=True)\n",
    "formatter.set_powerlimits((-3,3))\n",
    "ax.yaxis.set_major_formatter(formatter)   \n",
    "lo = Labeloffset(ax, label=r\"daily share of private txs\", axis=\"y\")\n",
    "plt.xlabel('')\n",
    "ax.set_xlim([pd.to_datetime('2022-09-15'), pd.to_datetime('2023-03-31')])\n",
    "handles, labels = ax.get_legend_handles_labels()\n",
    "lgd = ax.legend(handles,labels,facecolor =\"white\", framealpha=1, bbox_to_anchor=(0., 1.02, 1., .102), loc=3,  ncol=3, mode=\"expand\", borderaxespad=0.)\n",
    "plt.show()"
   ]
  },
  {
   "cell_type": "code",
   "execution_count": null,
   "metadata": {},
   "outputs": [],
   "source": [
    "privateNonPBS = privateNonPBS.loc['2022-12-01':'2022-12-31']\n",
    "print(\"Number of private txs in December in non-PBS blocks: \"+str(len(privateNonPBS)))\n",
    "binanceTxs =privateNonPBS[(privateNonPBS['sender']=='\\\\x4d9ff50ef4da947364bb9650892b2554e7be5e2b')&(privateNonPBS['recipient']=='\\\\x0b95993a39a363d99280ac950f5e4536ab5c5566')]\n",
    "print(\"Number of private txs with sender/receiver pair: \"+str(len(binanceTxs)))\n",
    "binanceTxs=binanceTxs.merge(data,left_on='block',right_on='block',how ='inner')\n",
    "print(\"Number of private txs in ANKR block: \"+str(len(binanceTxs[binanceTxs['proposerFeeRecipient']=='\\\\x6a0db4cef1ce2a5f81c8e6322862439f71aca29d'])))\n",
    "print(\"Number of unique ANKR block: \"+str(binanceTxs[binanceTxs['proposerFeeRecipient']=='\\\\x6a0db4cef1ce2a5f81c8e6322862439f71aca29d'].block.nunique()))"
   ]
  },
  {
   "cell_type": "markdown",
   "metadata": {},
   "source": [
    "### MEV Value"
   ]
  },
  {
   "cell_type": "markdown",
   "metadata": {},
   "source": [
    "MEV Transactions"
   ]
  },
  {
   "cell_type": "code",
   "execution_count": null,
   "metadata": {},
   "outputs": [],
   "source": [
    "ax=sns.lineplot(x='day', y='mevTxs', err_style=\"band\",errorbar=None, estimator=\"mean\", data=PBSblocks,label='PBS',color =Color.Flashbots.value)\n",
    "\n",
    "ax=sns.lineplot(x='day', y='mevTxs', err_style=\"band\",errorbar=None, estimator=\"mean\", data=noPBSblocks,label='non-PBS',color =Color.bloXrouteM.value)\n",
    "locator = mdates.AutoDateLocator()\n",
    "formatter = mdates.ConciseDateFormatter(locator)\n",
    "ax.xaxis.set_major_locator(locator)\n",
    "ax.xaxis.set_major_formatter(formatter)   \n",
    "ax.xaxis.set_minor_formatter('')\n",
    "plt.xlabel('')\n",
    "plt.ylabel('mean # MEV per block')\n",
    "\n",
    "handles, labels = ax.get_legend_handles_labels()\n",
    "lgd = ax.legend(handles,labels,facecolor =\"white\", framealpha=1, bbox_to_anchor=(0., 1.02, 1., .102), loc=3,  ncol=6, mode=\"expand\", borderaxespad=0.)\n",
    "ax.set_xlim([pd.to_datetime('2022-09-15'), pd.to_datetime('2023-03-31')])\n",
    "plt.show()"
   ]
  },
  {
   "cell_type": "markdown",
   "metadata": {},
   "source": [
    "Sandwich Attacks"
   ]
  },
  {
   "cell_type": "code",
   "execution_count": null,
   "metadata": {},
   "outputs": [],
   "source": [
    "ax=sns.lineplot(x='day', y='sandwichTxs', err_style=\"band\",errorbar=None, estimator=\"mean\", data=PBSblocks,label='PBS',color =Color.Flashbots.value)\n",
    "\n",
    "ax=sns.lineplot(x='day', y='sandwichTxs', err_style=\"band\",errorbar=None, estimator=\"mean\", data=noPBSblocks,label='non-PBS',color =Color.bloXrouteM.value)\n",
    "locator = mdates.AutoDateLocator()\n",
    "formatter = mdates.ConciseDateFormatter(locator)\n",
    "ax.xaxis.set_major_locator(locator)\n",
    "ax.xaxis.set_major_formatter(formatter)   \n",
    "ax.xaxis.set_minor_formatter('')\n",
    "plt.xlabel('')\n",
    "plt.ylabel('mean # sandwich attacks per block')\n",
    "\n",
    "handles, labels = ax.get_legend_handles_labels()\n",
    "lgd = ax.legend(handles,labels,facecolor =\"white\", framealpha=1, bbox_to_anchor=(0., 1.02, 1., .102), loc=3,  ncol=6, mode=\"expand\", borderaxespad=0.)\n",
    "ax.set_xlim([pd.to_datetime('2022-09-15'), pd.to_datetime('2023-03-31')])\n",
    "plt.show()"
   ]
  },
  {
   "cell_type": "code",
   "execution_count": null,
   "metadata": {},
   "outputs": [],
   "source": [
    "print(\"Average number of sandwich attacks in PBS blocks: \",PBSblocks['sandwichTxs'].mean())\n",
    "print(\"Average number of sandwich attacks in non-PBS blocks: \",noPBSblocks['sandwichTxs'].mean())\n",
    "print(\"Total number of sandwich attacks: \",PBSblocks['sandwichTxs'].sum()+noPBSblocks['sandwichTxs'].sum())\n",
    "print(\"Sandwich attacks in bloXroute (Ethical) blocks: \",relayDictData[relayDictData['bloXroute (Ethical)']>0].merge(PBSblocks,left_index=True,right_on='block',how='inner')['sandwichTxs'].sum())"
   ]
  },
  {
   "cell_type": "markdown",
   "metadata": {},
   "source": [
    "Liquidations"
   ]
  },
  {
   "cell_type": "code",
   "execution_count": null,
   "metadata": {},
   "outputs": [],
   "source": [
    "ax=sns.lineplot(x='day', y='liquidationTxs', err_style=\"band\",errorbar=None, estimator=\"mean\", data=PBSblocks,label='PBS',color =Color.Flashbots.value)\n",
    "\n",
    "ax=sns.lineplot(x='day', y='liquidationTxs', err_style=\"band\",errorbar=None, estimator=\"mean\", data=noPBSblocks,label='non-PBS',color =Color.bloXrouteM.value)\n",
    "\n",
    "locator = mdates.AutoDateLocator()\n",
    "formatter = mdates.ConciseDateFormatter(locator)\n",
    "ax.xaxis.set_major_locator(locator)\n",
    "ax.xaxis.set_major_formatter(formatter)   \n",
    "ax.xaxis.set_minor_formatter('')\n",
    "plt.xlabel('')\n",
    "plt.ylabel('mean # liquidations per block')\n",
    "\n",
    "handles, labels = ax.get_legend_handles_labels()\n",
    "lgd = ax.legend(handles,labels,facecolor =\"white\", framealpha=1, bbox_to_anchor=(0., 1.02, 1., .102), loc=3,  ncol=6, mode=\"expand\", borderaxespad=0.)\n",
    "ax.set_xlim([pd.to_datetime('2022-09-15'), pd.to_datetime('2023-03-31')])\n",
    "plt.show()"
   ]
  },
  {
   "cell_type": "code",
   "execution_count": null,
   "metadata": {},
   "outputs": [],
   "source": [
    "print(\"Average number of liquidations in PBS blocks: \",PBSblocks['liquidationTxs'].mean())\n",
    "print(\"Average number of liquidations in non-PBS blocks: \",noPBSblocks['liquidationTxs'].mean())\n",
    "print(\"Total number of liquidatations: \",PBSblocks['liquidationTxs'].sum()+noPBSblocks['liquidationTxs'].sum())\n"
   ]
  },
  {
   "cell_type": "markdown",
   "metadata": {},
   "source": [
    "Cyclic Arbitrage"
   ]
  },
  {
   "cell_type": "code",
   "execution_count": null,
   "metadata": {},
   "outputs": [],
   "source": [
    "ax=sns.lineplot(x='day', y='arbitrageTxs', err_style=\"band\",errorbar=None, estimator=\"mean\", data=PBSblocks,label='PBS',color =Color.Flashbots.value)\n",
    "ax=sns.lineplot(x='day', y='arbitrageTxs', err_style=\"band\",errorbar=None, estimator=\"mean\", data=noPBSblocks,label='non-PBS',color =Color.bloXrouteM.value)\n",
    "\n",
    "locator = mdates.AutoDateLocator()\n",
    "formatter = mdates.ConciseDateFormatter(locator)\n",
    "ax.xaxis.set_major_locator(locator)\n",
    "ax.xaxis.set_major_formatter(formatter)   \n",
    "ax.xaxis.set_minor_formatter('')\n",
    "plt.xlabel('')\n",
    "plt.ylabel('mean # cylic arbitrage per block')\n",
    "\n",
    "handles, labels = ax.get_legend_handles_labels()\n",
    "lgd = ax.legend(handles,labels,facecolor =\"white\", framealpha=1, bbox_to_anchor=(0., 1.02, 1., .102), loc=3,  ncol=6, mode=\"expand\", borderaxespad=0.)\n",
    "ax.set_xlim([pd.to_datetime('2022-09-15'), pd.to_datetime('2023-03-31')])\n",
    "plt.show()"
   ]
  },
  {
   "cell_type": "code",
   "execution_count": null,
   "metadata": {},
   "outputs": [],
   "source": [
    "print(\"Average number of cylic arbitrage transactions in PBS blocks: \",PBSblocks['arbitrageTxs'].mean())\n",
    "print(\"Average number of cylic arbitrage transactions in non-PBS blocks: \",noPBSblocks['arbitrageTxs'].mean())\n",
    "print(\"Total number of cylic arbitrage transactions: \",PBSblocks['arbitrageTxs'].sum()+noPBSblocks['arbitrageTxs'].sum())\n"
   ]
  },
  {
   "cell_type": "markdown",
   "metadata": {},
   "source": [
    "Proportion of MEV value"
   ]
  },
  {
   "cell_type": "code",
   "execution_count": null,
   "metadata": {},
   "outputs": [],
   "source": [
    "PBSblocks['mevPop'] =PBSblocks['mevFee']/PBSblocks['blockValue']\n",
    "\n",
    "noPBSblocks['mevPop'] =noPBSblocks['mevFee']/noPBSblocks['blockValue']\n",
    "\n",
    "\n",
    "ax =sns.lineplot(x='day', y='mevPop', err_style=\"band\", \n",
    "             errorbar=None, estimator=\"mean\", data=PBSblocks,label='PBS',color =Color.Flashbots.value)\n",
    "bounds = PBSblocks.groupby('day')['mevPop'].quantile((0.25,0.75)).unstack()\n",
    "ax.fill_between(x=bounds.index,y1=bounds.iloc[:,0],y2=bounds.iloc[:,1],alpha=0.2)\n",
    "ax =sns.lineplot(x='day', y='mevPop', err_style=\"band\", \n",
    "             errorbar=None, estimator=\"mean\", data=noPBSblocks,label='non-PBS',color =Color.bloXrouteM.value)\n",
    "bounds = noPBSblocks.groupby('day')['mevPop'].quantile((0.25,0.75)).unstack()\n",
    "ax.fill_between(x=bounds.index,y1=bounds.iloc[:,0],y2=bounds.iloc[:,1],alpha=0.2)\n",
    "\n",
    "locator = mdates.AutoDateLocator()\n",
    "formatter = mdates.ConciseDateFormatter(locator)\n",
    "ax.xaxis.set_major_locator(locator)\n",
    "ax.xaxis.set_major_formatter(formatter)   \n",
    "ax.xaxis.set_minor_formatter('')\n",
    "ax.grid(False)\n",
    "plt.xlabel('')\n",
    "plt.ylabel('mean MEV share of block value')\n",
    "ax.set_xlim([pd.to_datetime('2022-09-15'), pd.to_datetime('2023-03-31')])\n",
    "\n",
    "handles, labels = ax.get_legend_handles_labels()\n",
    "lgd = ax.legend(handles,labels,facecolor =\"white\", framealpha=1, bbox_to_anchor=(0., 1.02, 1., .102), loc=3,  ncol=2, mode=\"expand\", borderaxespad=0.)\n",
    "\n",
    "plt.show()"
   ]
  },
  {
   "cell_type": "code",
   "execution_count": null,
   "metadata": {},
   "outputs": [],
   "source": [
    "print(\"Proportion of value from MEV in PBS blocks: \",PBSblocks['mevPop'].mean())\n",
    "print(\"Proportion of value from MEV in non-PBS blocks: \",noPBSblocks['mevPop'].mean())"
   ]
  },
  {
   "cell_type": "markdown",
   "metadata": {},
   "source": [
    "## Censorship Resistance"
   ]
  },
  {
   "cell_type": "markdown",
   "metadata": {},
   "source": [
    "### Blocks by Relay OFAC Compliance"
   ]
  },
  {
   "cell_type": "code",
   "execution_count": null,
   "metadata": {},
   "outputs": [],
   "source": [
    "dataRelayOFAC = dataRelayTop.copy()\n",
    "dataRelayOFAC['non OFAC-compliant'] = dataRelayOFAC['bloXroute (M)']+ dataRelayOFAC['bloXroute (E)']+ dataRelayOFAC['UltraSound']+ dataRelayOFAC['GnosisDAO']+ dataRelayOFAC['rest']\n",
    "dataRelayOFAC['OFAC-compliant'] = dataRelayOFAC['Flashbots']+dataRelayOFAC['Eden']+dataRelayOFAC['Blocknative']+dataRelayOFAC['bloXroute (R)']\n",
    "dataRelayOFAC['sum']=dataRelayOFAC['OFAC-compliant']+dataRelayOFAC['non OFAC-compliant']\n",
    "dataRelayOFAC['non OFAC-compliant'] = dataRelayOFAC['non OFAC-compliant']/dataRelayOFAC['sum']\n",
    "dataRelayOFAC['OFAC-compliant'] = dataRelayOFAC['OFAC-compliant']/dataRelayOFAC['sum']\n",
    "dataRelayOFAC = dataRelayOFAC[['non OFAC-compliant','OFAC-compliant']]"
   ]
  },
  {
   "cell_type": "code",
   "execution_count": null,
   "metadata": {},
   "outputs": [],
   "source": [
    "ax = dataRelayOFAC.plot.area(linewidth=0,color={'non OFAC-compliant': Color.Flashbots.value, \n",
    "                                    'OFAC-compliant': Color.bloXrouteM.value})\n",
    "locator = mdates.AutoDateLocator()\n",
    "formatter = mdates.ConciseDateFormatter(locator)\n",
    "ax.xaxis.set_major_locator(locator)\n",
    "ax.xaxis.set_major_formatter(formatter)   \n",
    "ax.xaxis.set_minor_formatter('')\n",
    "ax.tick_params(which='minor', length=0, color='r')\n",
    "plt.xlabel('')\n",
    "plt.ylabel('share of PBS blocks')\n",
    "plt.ylim(0,1)\n",
    "handles, labels = ax.get_legend_handles_labels()\n",
    "lgd = ax.legend(handles,labels,facecolor =\"white\", framealpha=1, bbox_to_anchor=(0., 1.02, 1., .102), loc=3,  ncol=3, mode=\"expand\", borderaxespad=0.)\n",
    "ax.set_xlim([pd.to_datetime('2022-09-15'), pd.to_datetime('2023-03-31')])\n",
    "plt.show()"
   ]
  },
  {
   "cell_type": "code",
   "execution_count": null,
   "metadata": {},
   "outputs": [],
   "source": [
    "conditions = [\n",
    "    noPBSblocks['PBSBlock'] ==1\n",
    "]\n",
    "strategies = [0]\n",
    "noPBSblocks['noPBSBlock'] = np.select(conditions, strategies, default=1)\n",
    "\n",
    "PBSOfac=PBSblocks.groupby('day').aggregate({'ofac':sum,'PBSBlock':sum})\n",
    "PBSOfac['percentOfac']= PBSOfac['ofac']/PBSOfac['PBSBlock']\n",
    "noPBSOfac=noPBSblocks.groupby('day').aggregate({'ofac':sum, 'noPBSBlock':sum})\n",
    "noPBSOfac['percentOfac']= noPBSOfac['ofac']/noPBSOfac['noPBSBlock']\n"
   ]
  },
  {
   "cell_type": "code",
   "execution_count": null,
   "metadata": {},
   "outputs": [],
   "source": [
    "print(\"Proportion of non OFAC compliant PBS blocks: \" +str(PBSOfac['percentOfac'].mean()))\n",
    "print(\"Proportion of non OFAC compliant non-PBS blocks: \" +str(noPBSOfac['percentOfac'].mean()))"
   ]
  },
  {
   "cell_type": "markdown",
   "metadata": {},
   "source": [
    "### Share of Sanctioned Blocks"
   ]
  },
  {
   "cell_type": "code",
   "execution_count": null,
   "metadata": {},
   "outputs": [],
   "source": [
    "ax =sns.lineplot(x='day', y='percentOfac', \n",
    "             errorbar=None, estimator=\"mean\", data=PBSOfac,label='PBS',color =Color.Flashbots.value)\n",
    "ax =sns.lineplot(x='day', y='percentOfac', \n",
    "             errorbar=None, estimator=\"mean\", data=noPBSOfac,label='non-PBS',color =Color.bloXrouteM.value)\n",
    "\n",
    "\n",
    "locator = mdates.AutoDateLocator()\n",
    "formatter = mdates.ConciseDateFormatter(locator)\n",
    "ax.xaxis.set_major_locator(locator)\n",
    "ax.xaxis.set_major_formatter(formatter)   \n",
    "ax.xaxis.set_minor_formatter('')\n",
    "ax.grid(False)\n",
    "\n",
    "formatter = mticker.ScalarFormatter(useMathText=True)\n",
    "formatter.set_powerlimits((-3,3))\n",
    "ax.yaxis.set_major_formatter(formatter)   \n",
    "lo = Labeloffset(ax, label=r\"share of sanctioned blocks\", axis=\"y\")\n",
    "plt.xlabel('')\n",
    "ax.set_xlim([pd.to_datetime('2022-09-15'), pd.to_datetime('2023-03-31')])\n",
    "handles, labels = ax.get_legend_handles_labels()\n",
    "lgd = ax.legend(handles,labels,facecolor =\"white\", framealpha=1, bbox_to_anchor=(0., 1.02, 1., .102), loc=3,  ncol=3, mode=\"expand\", borderaxespad=0.)\n",
    "plt.show()"
   ]
  },
  {
   "cell_type": "markdown",
   "metadata": {},
   "source": [
    "## Relay Delivered Value and OFAC Compliance"
   ]
  },
  {
   "cell_type": "code",
   "execution_count": null,
   "metadata": {},
   "outputs": [],
   "source": [
    "relayDictData =pd.DataFrame.from_dict(relaysBlockDict, orient='index').T.unstack().dropna().reset_index(level=1,drop=True)\n",
    "relayDictData =relayDictData.to_frame()\n",
    "relayDictData = relayDictData.reset_index()\n",
    "relayDictData.columns =['block', 'Relay']\n",
    "relayDictData =relayDictData.groupby(['block',  'Relay']).size().unstack(fill_value=0)\n",
    "dataRelayCensor = relayDictData.merge(data[['block','time']],left_on='block',right_on='block',how='inner')\n",
    "\n",
    "ofacblocks =data[data['ofac']==1]\n",
    "ofacRelays =relayDictData.merge(ofacblocks['block'],left_index=True,right_on='block')\n",
    "ofacRelays=ofacRelays.drop(['block'], axis =1)\n",
    "ofacRelays =ofacRelays.rename(columns={\n",
    "                  \"bloXroute (MaxProfit)\": \"bloXroute (M)\"\n",
    "                  ,\"bloXroute (Regulated)\": \"bloXroute (R)\"\n",
    "                  ,\"bloXroute (Ethical)\": \"bloXroute (E)\"\n",
    "                  })\n",
    "counts1 = ofacRelays.sum()\n",
    "counts1=counts1.sort_values(ascending=False)\n",
    "\n",
    "\n",
    "dataRelayCensor =dataRelayCensor.set_index('time')\n",
    "dataRelayCensor.index = pd.to_datetime(dataRelayCensor.index)\n",
    "dataRelayCensor['day'] = dataRelayCensor.index.date\n",
    "dataRelayCensor =dataRelayCensor.rename(columns={\n",
    "                  \"bloXroute (MaxProfit)\": \"bloXroute (M)\"\n",
    "                  ,\"bloXroute (Regulated)\": \"bloXroute (R)\"\n",
    "                  ,\"bloXroute (Ethical)\": \"bloXroute (E)\"\n",
    "                  })\n",
    "dataRelayCensor=dataRelayCensor.drop(columns=['block']).sum()\n",
    "dataRelayCensor.loc['all'] = dataRelayCensor.sum()\n",
    "a=counts1.rename('ofac').to_frame()#.join(counts2.rename('chainalysis'))\n",
    "a.loc['all', :] = a.sum()\n",
    "b=a.div(dataRelayCensor, axis=0).mul(100)\n",
    "c=pd.concat([a,b],axis=1,keys=['sanctioned blocks','share of sanctioned blocks [%]']).swaplevel(0,1,axis=1).sort_index(axis=1)\n",
    "c.columns = c.columns.droplevel()"
   ]
  },
  {
   "cell_type": "code",
   "execution_count": null,
   "metadata": {},
   "outputs": [],
   "source": [
    "missingvalue =data[(data['builderPubkey']==data['builderPubkey'])&(data['blockHashPBS']==data['blockHashOnChain'])]\n",
    "conditions = [\n",
    "    ( missingvalue['payment']==1),\n",
    "    ( missingvalue['payment']=='')&(missingvalue['builderFeeRecipient']==missingvalue['builderFeeRecipient'])\n",
    "]\n",
    "strategies = [missingvalue['proposerProfit'],missingvalue['proposerProfit']]\n",
    "missingvalue['deliveredValue'] = np.select(conditions, strategies, default=0)\n",
    "relayDictDataValue =relayDictData.merge(missingvalue[['block','valuePBS','deliveredValue']],left_index=True,right_on='block')\n",
    "relayDictDataValue =relayDictDataValue.rename(columns={\n",
    "                  \"bloXroute (MaxProfit)\": \"bloXroute (M)\"\n",
    "                  ,\"bloXroute (Regulated)\": \"bloXroute (R)\"\n",
    "                  ,\"bloXroute (Ethical)\": \"bloXroute (E)\"\n",
    "                  })\n",
    "onlySmaller=relayDictDataValue[relayDictDataValue['valuePBS']>1.00000000000001*relayDictDataValue['deliveredValue']]"
   ]
  },
  {
   "cell_type": "code",
   "execution_count": null,
   "metadata": {},
   "outputs": [],
   "source": [
    "delValue =relayDictDataValue.iloc[:,:-2].mul(relayDictDataValue.iloc[:,-1], axis=0).sum().rename('delivered Value')\n",
    "delValue.loc['all'] = delValue.sum()\n",
    "promisedValue=relayDictDataValue.iloc[:,:-2].mul(relayDictDataValue.iloc[:,-2], axis=0).fillna(0).sum().rename('promised Value')\n",
    "promisedValue.loc['all'] = promisedValue.sum()\n",
    "share =(relayDictDataValue.iloc[:,:-2].mul(relayDictDataValue.iloc[:,-1], axis=0).sum()*100/relayDictDataValue.iloc[:,:-2].mul(relayDictDataValue.iloc[:,-2], axis=0).sum()).rename('share of value')\n",
    "share['all'] =delValue.loc['all']*100 /promisedValue.loc['all']\n",
    "shareOfBlocks =onlySmaller.iloc[:,:-2].sum()*100/relayDictDataValue.iloc[:,:-2].sum()\n",
    "shareOfBlocks['all'] = len(onlySmaller)*100 / len(relayDictDataValue)\n",
    "shareOfBlocks=shareOfBlocks.rename('share of block')"
   ]
  },
  {
   "cell_type": "code",
   "execution_count": null,
   "metadata": {},
   "outputs": [],
   "source": [
    "delValue =relayDictDataValue.iloc[:,:-2].mul(relayDictDataValue.iloc[:,-1], axis=0).sum().rename('delivered value [ETH]')\n",
    "delValue.loc['all'] = delValue.sum()\n",
    "promisedValue=relayDictDataValue.iloc[:,:-2].mul(relayDictDataValue.iloc[:,-2], axis=0).fillna(0).sum().rename('promised value [ETH]')\n",
    "promisedValue.loc['all'] = promisedValue.sum()\n",
    "share =(relayDictDataValue.iloc[:,:-2].mul(relayDictDataValue.iloc[:,-1], axis=0).sum()*100/relayDictDataValue.iloc[:,:-2].mul(relayDictDataValue.iloc[:,-2], axis=0).sum()).rename('share of value [%]')\n",
    "share['all'] =delValue.loc['all']*100 /promisedValue.loc['all']\n",
    "shareOfBlocks =onlySmaller.iloc[:,:-2].sum()*100/relayDictDataValue.iloc[:,:-2].sum()\n",
    "shareOfBlocks['all'] = len(onlySmaller)*100 / len(relayDictDataValue)\n",
    "shareOfBlocks=shareOfBlocks.rename('share of blocks [%]')\n",
    "table =delValue.to_frame().join(promisedValue).join(share).join(shareOfBlocks).join(c)\n",
    "table.drop(['block'],inplace=True)\n",
    "table"
   ]
  }
 ],
 "metadata": {
  "kernelspec": {
   "display_name": "Python 3",
   "language": "python",
   "name": "python3"
  },
  "language_info": {
   "codemirror_mode": {
    "name": "ipython",
    "version": 3
   },
   "file_extension": ".py",
   "mimetype": "text/x-python",
   "name": "python",
   "nbconvert_exporter": "python",
   "pygments_lexer": "ipython3",
   "version": "3.10.12"
  },
  "orig_nbformat": 4
 },
 "nbformat": 4,
 "nbformat_minor": 2
}
